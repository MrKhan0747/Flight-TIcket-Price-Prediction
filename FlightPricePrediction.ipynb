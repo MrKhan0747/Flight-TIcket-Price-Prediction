{
 "cells": [
  {
   "cell_type": "code",
   "execution_count": null,
   "metadata": {},
   "outputs": [],
   "source": [
    "#import libraries\n",
    "import pandas as pd\n",
    "import numpy as np\n",
    "import matplotlib.pyplot as plt\n",
    "import seaborn as sns"
   ]
  },
  {
   "cell_type": "code",
   "execution_count": null,
   "metadata": {},
   "outputs": [],
   "source": [
    "#read train dataset\n",
    "\n",
    "df_train=pd.read_excel('./Flight_Ticket_Participant_Datasets/Data_Train.xlsx')\n",
    "df_train.head()"
   ]
  },
  {
   "cell_type": "code",
   "execution_count": null,
   "metadata": {},
   "outputs": [],
   "source": [
    "#read test dataset\n",
    "\n",
    "df_test=pd.read_excel('./Flight_Ticket_Participant_Datasets/Test_set.xlsx')\n",
    "df_test.head()"
   ]
  },
  {
   "cell_type": "code",
   "execution_count": null,
   "metadata": {},
   "outputs": [],
   "source": [
    "#train data information\n",
    "df_train.info()"
   ]
  },
  {
   "cell_type": "code",
   "execution_count": null,
   "metadata": {},
   "outputs": [],
   "source": [
    "#data description\n",
    "#mean median std etc.\n",
    "df_train.describe()"
   ]
  },
  {
   "cell_type": "code",
   "execution_count": null,
   "metadata": {},
   "outputs": [],
   "source": [
    "#count no of null values in each column\n",
    "df_train.shape,df_train.isnull().sum()"
   ]
  },
  {
   "cell_type": "code",
   "execution_count": null,
   "metadata": {},
   "outputs": [],
   "source": [
    "#only 1 records so can be drop that record\n",
    "#drop null values\n",
    "df_train=df_train.dropna(axis=0)\n",
    "df_train.shape"
   ]
  },
  {
   "cell_type": "code",
   "execution_count": null,
   "metadata": {},
   "outputs": [],
   "source": [
    "#format date of journet\n",
    "#day of travel\n",
    "#month of travel\n",
    "#year of travel is same so no need\n",
    "#add extra column week day-- 1 mean week day 0 mean weekend\n",
    "\n",
    "df_train['Day_of_Travel']=pd.to_datetime(df_train.Date_of_Journey,format=\"%d/%m/%Y\").dt.day\n",
    "df_test['Day_of_Travel']=pd.to_datetime(df_test.Date_of_Journey,format=\"%d/%m/%Y\").dt.day\n",
    "\n",
    "df_train['Month_of_Travel']=pd.to_datetime(df_train.Date_of_Journey,format=\"%d/%m/%Y\").dt.month\n",
    "df_test['Month_of_Travel']=pd.to_datetime(df_test.Date_of_Journey,format=\"%d/%m/%Y\").dt.month\n",
    "\n",
    "df_train['Weekday'] = ((pd.DatetimeIndex(df_train.Date_of_Journey).dayofweek) // 5 == 1).astype(int)\n",
    "df_test['Weekday'] = ((pd.DatetimeIndex(df_test.Date_of_Journey).dayofweek) // 5 == 1).astype(int)\n",
    "\n",
    "df_train=df_train.drop(columns=['Date_of_Journey'])\n",
    "df_test=df_test.drop(columns=['Date_of_Journey'])"
   ]
  },
  {
   "cell_type": "code",
   "execution_count": null,
   "metadata": {},
   "outputs": [],
   "source": [
    "#format journey time arrival and departure\n",
    "\n",
    "#departure\n",
    "df_train['Depart_Hour']=pd.to_datetime(df_train.Dep_Time).dt.hour\n",
    "df_train['Depart_Minute']=pd.to_datetime(df_train.Dep_Time).dt.minute\n",
    "\n",
    "df_test['Depart_Hour']=pd.to_datetime(df_test.Dep_Time).dt.hour\n",
    "df_test['Depart_Minute']=pd.to_datetime(df_test.Dep_Time).dt.minute\n",
    "\n",
    "\n",
    "df_train['Arrival_Hour']=pd.to_datetime(df_train.Arrival_Time).dt.hour\n",
    "df_train['Arrival_Minute']=pd.to_datetime(df_train.Arrival_Time).dt.minute\n",
    "\n",
    "df_test['Arrival_Hour']=pd.to_datetime(df_test.Arrival_Time).dt.hour\n",
    "df_test['Arrival_Minute']=pd.to_datetime(df_test.Arrival_Time).dt.minute\n",
    "\n",
    "df_train=df_train.drop(columns=['Dep_Time'])\n",
    "df_test=df_test.drop(columns=['Dep_Time'])\n",
    "\n",
    "df_train=df_train.drop(columns=['Arrival_Time'])\n",
    "df_test=df_test.drop(columns=['Arrival_Time'])"
   ]
  },
  {
   "cell_type": "code",
   "execution_count": null,
   "metadata": {},
   "outputs": [],
   "source": [
    "#add extra two column wheter journey at night time or early morning time\n",
    "\n",
    "#we have seen some flights have less fare at early morning and high price at late night so direct relation\n",
    "\n",
    "df_train['Night_Journey']=(df_train['Depart_Hour']>=20).astype(int)\n",
    "df_train['Early_Morning_Journey']=((df_train['Depart_Hour']>=4) & (df_train['Depart_Hour']<=8)).astype(int)\n",
    "\n",
    "df_test['Night_Journey']=(df_train['Depart_Hour']>=20).astype(int)\n",
    "df_test['Early_Morning_Journey']=((df_train['Depart_Hour']>=4) & (df_train['Depart_Hour']<=8)).astype(int)"
   ]
  },
  {
   "cell_type": "code",
   "execution_count": null,
   "metadata": {},
   "outputs": [],
   "source": [
    "#Flight duration\n",
    "#converting duration hour and minute into seprate columns\n",
    "#function for training and test also\n",
    "\n",
    "def extract_hour_minute(duration):\n",
    "    hour=[]\n",
    "    minute=[]\n",
    "\n",
    "    for time in duration:\n",
    "        minu=time.split(' ')\n",
    "        count=len(minu)\n",
    "        if count==2:\n",
    "            h=minu[0].split('h')[0]\n",
    "            hour.append(int(h))\n",
    "            m=minu[1].split('m')[0]\n",
    "            minute.append(int(m))\n",
    "        elif minu[0][-1]=='m':\n",
    "            hour.append(0)\n",
    "            m=minu[0].split('m')[0]\n",
    "            minute.append(int(m))\n",
    "           #print(m)    \n",
    "        elif minu[0][-1]=='h':\n",
    "            minute.append(0)\n",
    "            h=minu[0].split('h')[0]\n",
    "            hour.append(int(h))\n",
    "           #print(h)\n",
    "    return hour,minute"
   ]
  },
  {
   "cell_type": "code",
   "execution_count": null,
   "metadata": {},
   "outputs": [],
   "source": [
    "#lets call function and add to new columns\n",
    "\n",
    "df_train['Travel_Hour'],df_train['Travel_Minute']=extract_hour_minute(df_train['Duration'])\n",
    "df_test['Travel_Hour'],df_test['Travel_Minute']=extract_hour_minute(df_test['Duration'])\n",
    "\n",
    "df_train=df_train.drop(columns=['Duration'])\n",
    "df_test=df_test.drop(columns=['Duration'])"
   ]
  },
  {
   "cell_type": "code",
   "execution_count": null,
   "metadata": {},
   "outputs": [],
   "source": [
    "#categorical data visualization \n",
    "\n",
    "plt.figure(figsize=(10,4))\n",
    "plt.subplot(1,2,1)\n",
    "sns.countplot(y=df_train['Airline'])\n",
    "plt.subplot(1,2,2)\n",
    "sns.countplot(y=df_train['Total_Stops'])\n",
    "plt.show()\n",
    "\n",
    "plt.figure(figsize=(10,4))\n",
    "plt.subplot(1,2,1)\n",
    "sns.countplot(x=df_train['Source'])\n",
    "plt.xticks(rotation=45)\n",
    "\n",
    "plt.subplot(1,2,2)\n",
    "sns.countplot(x=df_train['Destination'])\n",
    "plt.xticks(rotation=45)\n",
    "plt.show()"
   ]
  },
  {
   "cell_type": "code",
   "execution_count": null,
   "metadata": {},
   "outputs": [],
   "source": [
    "#histogram to check the data despersion\n",
    "\n",
    "df_train.hist(figsize=(12,9))\n",
    "plt.show()"
   ]
  },
  {
   "cell_type": "code",
   "execution_count": null,
   "metadata": {},
   "outputs": [],
   "source": [
    "#check the price and travel hour pair plot\n",
    "sns.pairplot(data=df_train,vars=['Price','Travel_Hour'])"
   ]
  },
  {
   "cell_type": "code",
   "execution_count": null,
   "metadata": {},
   "outputs": [],
   "source": [
    "#box plot to find the outlier\n",
    "plt.subplot(2,2,1)\n",
    "sns.boxplot(x=['Price'],data=df_train)\n",
    "plt.subplot(2,2,2)\n",
    "sns.boxplot(x=['Travel_Hour'],data=df_train)"
   ]
  },
  {
   "cell_type": "code",
   "execution_count": null,
   "metadata": {},
   "outputs": [],
   "source": [
    "#price outlier check\n",
    "Q1=df_train['Price'].quantile(0.25)\n",
    "Q3=df_train['Price'].quantile(0.75)\n",
    "IQR=Q3-Q1\n",
    "\n",
    "print(Q1)\n",
    "print(Q3)\n",
    "print(IQR)\n",
    "\n",
    "#price outlier removed\n",
    "df_train=df_train[~((df_train['Price']>Q3+1.5*IQR)|(df_train['Price']<Q1-1.5*IQR))]\n",
    "sns.boxplot(x=['Price'],data=df_train)"
   ]
  },
  {
   "cell_type": "code",
   "execution_count": null,
   "metadata": {},
   "outputs": [],
   "source": [
    "#check the price and travel hour pair plot\n",
    "sns.pairplot(data=df_train,vars=['Price','Travel_Hour'])"
   ]
  },
  {
   "cell_type": "code",
   "execution_count": null,
   "metadata": {},
   "outputs": [],
   "source": [
    "#lets check any flight who has less travel minute and hour ==0\n",
    "df_train[((df_train['Travel_Minute']<50) & (df_train['Travel_Hour']==0))]\n",
    "\n",
    "#one record only five minutes travel from Mumbai to Hyderabad \n",
    "#impossible\n",
    "\n",
    "#remove \n",
    "df_train=df_train[~((df_train['Travel_Minute']<50) & (df_train['Travel_Hour']==0))]\n",
    "df_train[((df_train['Travel_Minute']<50) & (df_train['Travel_Hour']==0))]\n",
    "\n",
    "#we are done with data preprocssig almost...\n",
    "#label encoding remain to convert categorical column to unique int values"
   ]
  },
  {
   "cell_type": "code",
   "execution_count": null,
   "metadata": {},
   "outputs": [],
   "source": [
    "df_train.dtypes"
   ]
  },
  {
   "cell_type": "code",
   "execution_count": null,
   "metadata": {},
   "outputs": [],
   "source": [
    "df_test.dtypes"
   ]
  },
  {
   "cell_type": "code",
   "execution_count": null,
   "metadata": {},
   "outputs": [],
   "source": [
    "#get dummies of source and destination city\n",
    "\n",
    "df_new=pd.concat([df_train.drop('Source',axis=1),pd.get_dummies(df_train['Source'],prefix='Source')],axis=1)\n",
    "df_new=pd.concat([df_new.drop('Destination',axis=1),pd.get_dummies(df_new['Destination'],prefix='Destination')],axis=1)\n",
    "df_train=df_new\n",
    "df_train.head(5)"
   ]
  },
  {
   "cell_type": "code",
   "execution_count": null,
   "metadata": {},
   "outputs": [],
   "source": [
    "#columns Airline,Route,Total_Stops,Info can be encode \n",
    "\n",
    "df_train\n",
    "df_test\n",
    "\n",
    "#masking of object column\n",
    "categorial_mask1=df_train.dtypes==object\n",
    "categorial_mask2=df_test.dtypes==object\n",
    "\n",
    "#categorical columns\n",
    "categorical_cols1=df_train.columns[categorial_mask1].tolist()\n",
    "categorical_cols2=df_test.columns[categorial_mask2].tolist()\n",
    "\n",
    "from sklearn.preprocessing import LabelEncoder\n",
    "le=LabelEncoder()\n",
    "le2=LabelEncoder()\n",
    "\n",
    "df_train[categorical_cols1]=df_train[categorical_cols1].apply(lambda col:le.fit_transform(col))\n",
    "df_test[categorical_cols2]=df_test[categorical_cols2].apply(lambda col:le2.fit_transform(col))"
   ]
  },
  {
   "cell_type": "code",
   "execution_count": null,
   "metadata": {},
   "outputs": [],
   "source": [
    "df_train.head(5)"
   ]
  },
  {
   "cell_type": "code",
   "execution_count": null,
   "metadata": {},
   "outputs": [],
   "source": [
    "#feature extraction\n",
    "X=df_train.drop(columns=['Price'])\n",
    "y=df_train['Price']\n",
    "\n",
    "from sklearn.model_selection import train_test_split\n",
    "\n",
    "X_train,X_test,y_train,y_test=train_test_split(X,y,test_size=0.2,random_state=10)\n",
    "X_train.shape,X_test.shape,y_train.shape,y_test.shape"
   ]
  },
  {
   "cell_type": "code",
   "execution_count": null,
   "metadata": {},
   "outputs": [],
   "source": [
    "#cross validation\n",
    "from sklearn.model_selection import cross_val_score\n",
    "\n",
    "#function declaration\n",
    "def cross_validation(reg_model,X,y):\n",
    "    \n",
    "    score=cross_val_score(reg_model,X,y,scoring='neg_mean_squared_error',cv=10)\n",
    "    rmse_score=np.sqrt(-score)\n",
    "    print(\"\\nScores \",rmse_score)\n",
    "    print(\"Mean \",rmse_score.mean())\n",
    "    print(\"Standard Deviation \",rmse_score.std())"
   ]
  },
  {
   "cell_type": "code",
   "execution_count": null,
   "metadata": {},
   "outputs": [],
   "source": [
    "from sklearn.linear_model import LinearRegression\n",
    "from sklearn.metrics import mean_squared_error\n",
    "\n",
    "reg=LinearRegression()\n",
    "reg.fit(X_train,y_train)\n",
    "y_pred=reg.predict(X_test)\n",
    "print(np.sqrt(mean_squared_error(y_test,y_pred)))\n",
    "\n",
    "#cross validation function call\n",
    "cross_validation(reg,X_train,y_train)\n",
    "pd.DataFrame({'Price':y_test,'Price Predicted':y_pred}).head(10)"
   ]
  },
  {
   "cell_type": "code",
   "execution_count": null,
   "metadata": {},
   "outputs": [],
   "source": [
    "from sklearn.svm import SVR\n",
    "\n",
    "reg=SVR(kernel='linear')\n",
    "reg.fit(X_train,y_train)\n",
    "y_pred=reg.predict(X_test)\n",
    "print(np.sqrt(mean_squared_error(y_test,y_pred)))\n",
    "\n",
    "#cross validation function call\n",
    "cross_validation(reg,X_train,y_train)\n",
    "pd.DataFrame({'Price':y_test,'Price Predicted':y_pred}).head(10)"
   ]
  },
  {
   "cell_type": "code",
   "execution_count": null,
   "metadata": {},
   "outputs": [],
   "source": [
    "from sklearn.neighbors import KNeighborsRegressor\n",
    "\n",
    "reg=KNeighborsRegressor(n_neighbors=3)\n",
    "reg.fit(X_train,y_train)\n",
    "y_pred=reg.predict(X_test)\n",
    "print(np.sqrt(mean_squared_error(y_test,y_pred)))\n",
    "\n",
    "#cross validation function call\n",
    "cross_validation(reg,X_train,y_train)\n",
    "pd.DataFrame({'Price':y_test,'Price Predicted':y_pred}).head(10)"
   ]
  },
  {
   "cell_type": "code",
   "execution_count": null,
   "metadata": {},
   "outputs": [],
   "source": [
    "from sklearn.ensemble import RandomForestRegressor\n",
    "\n",
    "reg=RandomForestRegressor(n_estimators=100)\n",
    "reg.fit(X_train,y_train)\n",
    "y_pred=reg.predict(X_test)\n",
    "print(np.sqrt(mean_squared_error(y_test,y_pred)))\n",
    "\n",
    "#cross validation function call\n",
    "cross_validation(reg,X_train,y_train)\n",
    "pd.DataFrame({'Price':y_test,'Price Predicted':y_pred}).head(10)"
   ]
  },
  {
   "cell_type": "code",
   "execution_count": null,
   "metadata": {},
   "outputs": [],
   "source": [
    "from sklearn.ensemble import GradientBoostingRegressor\n",
    "\n",
    "reg=GradientBoostingRegressor(n_estimators=5,learning_rate=1,loss ='ls')\n",
    "reg.fit(X_train,y_train)\n",
    "y_pred=reg.predict(X_test)\n",
    "print(np.sqrt(mean_squared_error(y_test,y_pred)))\n",
    "\n",
    "#cross validation function call\n",
    "cross_validation(reg,X_train,y_train)\n",
    "pd.DataFrame({'Price':y_test,'Price Predicted':y_pred}).head(10)"
   ]
  },
  {
   "cell_type": "code",
   "execution_count": null,
   "metadata": {},
   "outputs": [],
   "source": []
  }
 ],
 "metadata": {
  "kernelspec": {
   "display_name": "Python 3",
   "language": "python",
   "name": "python3"
  },
  "language_info": {
   "codemirror_mode": {
    "name": "ipython",
    "version": 3
   },
   "file_extension": ".py",
   "mimetype": "text/x-python",
   "name": "python",
   "nbconvert_exporter": "python",
   "pygments_lexer": "ipython3",
   "version": "3.7.3"
  }
 },
 "nbformat": 4,
 "nbformat_minor": 2
}
